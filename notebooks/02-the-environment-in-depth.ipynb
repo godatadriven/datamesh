{
 "cells": [
  {
   "cell_type": "markdown",
   "metadata": {},
   "source": [
    "# The environment explained"
   ]
  },
  {
   "cell_type": "markdown",
   "metadata": {},
   "source": [
    "In this notebook we go through our environment. The commands in this notebook can be executed in the Terminal tab of the instruqt challenge"
   ]
  },
  {
   "cell_type": "markdown",
   "metadata": {},
   "source": [
    "## Components"
   ]
  },
  {
   "cell_type": "markdown",
   "metadata": {},
   "source": [
    "In our environment we have 6 docker containers available with differnet roles.\n",
    "\n",
    "In a picture this is our environment:"
   ]
  },
  {
   "cell_type": "markdown",
   "metadata": {},
   "source": [
    "<img src=\"images/environment.png\" style=\"width:100%;height:600px;\"/>"
   ]
  },
  {
   "cell_type": "markdown",
   "metadata": {},
   "source": [
    "This is a set of docker containers stitched together with docker-compose.\n",
    "\n",
    "Within the instruqt terminal tab you can execute the command `docker ps` to see them running."
   ]
  },
  {
   "cell_type": "markdown",
   "metadata": {},
   "source": [
    "```\n",
    "CONTAINER ID   IMAGE                                PORTS                                        NAMES\n",
    "3efc45c163ad   localstack/localstack-full:0.12.15   5678/tcp, 0.0.0.0:4563-4584->4563-4584/tcp   instruqt-datamesh-vm_s3server_1\n",
    "9071d2e566c3   instruqt-datamesh-vm_sparkprepare                                                 instruqt-datamesh-vm_sparkprepare_1\n",
    "af6e2989f8d6   almondsh/almond:latest               0.0.0.0:10000->8888/tcp, :::10000->8888/tcp  instruqt-datamesh-vm_jupyter_1\n",
    "669e59e3fe1f   instruqt-datamesh-vm_sparkshell                                                   instruqt-datamesh-vm_sparkshell_1\n",
    "2227aebfce73   deltaio/delta-sharing-server:0.2.0   0.0.0.0:38080->8080/tcp, :::38080->8080/tcp  instruqt-datamesh-vm_delta_1\n",
    "6b702d7a4b91   instruqt-datamesh-vm_python                                                       instruqt-datamesh-vm_python_1\n",
    "```"
   ]
  },
  {
   "cell_type": "markdown",
   "metadata": {},
   "source": [
    "So we have:\n",
    "\n",
    "| Container name | Description |\n",
    "| :- | :- |\n",
    "| s3server     | A [localstack](https://localstack.cloud/) docker container acting as Amazon S3 object storage |\n",
    "| sparkprepare | A Scala spark-shell with unlimited S3 access to interact directly with the datasets |\n",
    "| jupyter      | A Jupyter-lab notebook server the notebooks are running on |\n",
    "| sparkshell   | A Scala spark-shell configured to interact with the Delta Sharing server |\n",
    "| delta        | A [Delta Sharing](https://delta.io/sharing/) server |\n",
    "| python       | A Python container configured to interact with the Delta Sharing server |"
   ]
  }
 ],
 "metadata": {
  "kernelspec": {
   "display_name": "Python 3",
   "language": "python",
   "name": "python3"
  },
  "language_info": {
   "codemirror_mode": {
    "name": "ipython",
    "version": 3
   },
   "file_extension": ".py",
   "mimetype": "text/x-python",
   "name": "python",
   "nbconvert_exporter": "python",
   "pygments_lexer": "ipython3",
   "version": "3.8.6"
  }
 },
 "nbformat": 4,
 "nbformat_minor": 4
}
