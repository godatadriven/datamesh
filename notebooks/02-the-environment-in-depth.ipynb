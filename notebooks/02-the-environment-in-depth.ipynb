{
 "cells": [
  {
   "cell_type": "markdown",
   "metadata": {},
   "source": [
    "# The environment explained"
   ]
  },
  {
   "cell_type": "markdown",
   "metadata": {},
   "source": [
    "In this notebook we go through our environment. The commands in this notebook can be executed in the Terminal tab of the instruqt challenge"
   ]
  },
  {
   "cell_type": "markdown",
   "metadata": {},
   "source": [
    "## Components"
   ]
  },
  {
   "cell_type": "markdown",
   "metadata": {},
   "source": [
    "In our environment we have 6 docker containers available with different roles.\n",
    "\n",
    "In a picture this is our environment:"
   ]
  },
  {
   "cell_type": "markdown",
   "metadata": {},
   "source": [
    "<img src=\"images/environment.png\" style=\"width:100%;height:600px;\"/>"
   ]
  },
  {
   "cell_type": "markdown",
   "metadata": {},
   "source": [
    "This is a set of docker containers stitched together with docker-compose.\n",
    "\n",
    "Within the instruqt terminal tab you can execute the command `docker ps` to see them running."
   ]
  },
  {
   "cell_type": "markdown",
   "metadata": {},
   "source": [
    "```\n",
    "CONTAINER ID   IMAGE                                      PORTS                                                  NAMES\n",
    "6207c5d00a08   datamesh_python                                                                                   datamesh_vm_python_1\n",
    "779e6e00057e   azurite:3.15.0                             0.0.0.0:10000-10002->10000-10002/tcp                   datamesh_vm_azserver_1\n",
    "d0f94cd5c8d9   datamesh_delta                             0.0.0.0:38080->8080/tcp                                datamesh_vm_delta_1\n",
    "9e541b534128   fsouza/fake-gcs-server:1.37                4443/tcp, 0.0.0.0:4443->443/tcp                        datamesh_gcsserver_1\n",
    "7fb0ec49b86f   jamesdbloom/mockserver:mockserver-5.11.1   0.0.0.0:1080-1081->1080-1081/tcp                       datamesh_mockserver_1\n",
    "798b63f05e93   datamesh_sparkshell                                                                               datamesh_vm_sparkshell_1\n",
    "d88a7a2abbd2   datamesh_sparkprepare                                                                             datamesh_vm_sparkprepare_1\n",
    "d133e76d0f6c   datamesh_jupyter                           0.0.0.0:14040->4040/tcp, 0.0.0.0:18888->8888/tcp       datamesh_vm_jupyter_1\n",
    "0d1d6016fa4e   localstack/localstack-full:0.12.15         5678/tcp, 0.0.0.0:4563-4584->4563-4584/tcp, 8080/tcp   datamesh_vm_s3server_1\n",
    "```"
   ]
  },
  {
   "cell_type": "markdown",
   "metadata": {},
   "source": [
    "### S3server\n",
    "\n",
    "A [localstack](https://localstack.cloud/) docker container acting as Amazon S3 object storage.  \n",
    "In here we have our datasets stored in a bucket called `demodata`"
   ]
  },
  {
   "cell_type": "markdown",
   "metadata": {},
   "source": [
    "### azserver\n",
    "\n",
    "A [azurite](https://docs.microsoft.com/en-us/azure/storage/common/storage-use-azurite) docker container acting as Azure Blob object storage.  \n",
    "In here we have our datasets stored in storage containers called `world` and `sales`"
   ]
  },
  {
   "cell_type": "markdown",
   "metadata": {},
   "source": [
    "### gcsserver\n",
    "\n",
    "A [fake-gcs-server](https://github.com/fsouza/fake-gcs-server) docker container acting as Google Cloud storage.  \n",
    "In here we have our datasets stored in a bucket called `storage-bucket`"
   ]
  },
  {
   "cell_type": "markdown",
   "metadata": {},
   "source": [
    "### Sparkprepare\n",
    "\n",
    "A Scala spark-shell with unlimited S3 access to interact directly with the datasets.  \n",
    "This container is mainly used to prepare the datasets used in the workshop.  \n",
    "\n",
    "It also has azure cli installed used to put copies of the S3 data in the Azure blob storage\n",
    "\n",
    "At the end of the workshop this container can be used to update/transform the data without using the Delta Sharing server."
   ]
  },
  {
   "cell_type": "markdown",
   "metadata": {},
   "source": [
    "### Jupyter\n",
    "\n",
    "A Jupyter-lab notebook server the notebooks are running on.  \n"
   ]
  },
  {
   "cell_type": "markdown",
   "metadata": {},
   "source": [
    "### Sparkshell\n",
    "\n",
    "A Scala spark-shell configured to interact with the Delta Sharing server.  \n",
    "No direct S3/Azure access so datasets can only be loaded through the Delta sharing server."
   ]
  },
  {
   "cell_type": "markdown",
   "metadata": {},
   "source": [
    "### Delta\n",
    "\n",
    "A [Delta Sharing](https://delta.io/sharing/) server."
   ]
  },
  {
   "cell_type": "markdown",
   "metadata": {},
   "source": [
    "### Python\n",
    "\n",
    "A Python container configured to interact with the Delta Sharing server"
   ]
  },
  {
   "cell_type": "markdown",
   "metadata": {},
   "source": [
    "## Available datasets"
   ]
  },
  {
   "cell_type": "markdown",
   "metadata": {},
   "source": [
    "We have two different data sets stored in S3 and Azure blob storage:\n",
    "\n",
    "- cities: A dataset with the worlds cities and their properties\n",
    "- sales: A sample sales dataset with orders and orderlines\n"
   ]
  },
  {
   "cell_type": "markdown",
   "metadata": {},
   "source": [
    "### Cities\n",
    "Raw data available at: `s3://demodata/rawdata/world/cities/sample.csv`  \n",
    "Data is transformed into Delta Lake format and available at: `s3://demodata/silver/world/cities` and `wasbs://world@devstoreaccount1.blob.azserver:10000/cities/cities`"
   ]
  },
  {
   "cell_type": "markdown",
   "metadata": {},
   "source": [
    "### Sales\n",
    "\n",
    "Raw data available at: `s3://demodata/rawdata/sales/sample.csv`  \n",
    "Data is transformed into Delta Lake format and available at: `s3://demodata/silver/sales` and `wasbs://sales@devstoreaccount1.blob.azserver:10000/sales`  \n",
    "Next to the format change the dataset is also partitioned by `year`, `month` and `day` based on the orderdate field."
   ]
  },
  {
   "cell_type": "markdown",
   "metadata": {},
   "source": [
    "# Even more in depth?"
   ]
  },
  {
   "cell_type": "markdown",
   "metadata": {},
   "source": [
    "If you want to know how the docker containers are configured to work together?  \n",
    "At the final challenge we have documented the configurations of each docker container in the `COMPOSE_README.md` file"
   ]
  }
 ],
 "metadata": {
  "kernelspec": {
   "display_name": "Python 3 (ipykernel)",
   "language": "python",
   "name": "python3"
  },
  "language_info": {
   "codemirror_mode": {
    "name": "ipython",
    "version": 3
   },
   "file_extension": ".py",
   "mimetype": "text/x-python",
   "name": "python",
   "nbconvert_exporter": "python",
   "pygments_lexer": "ipython3",
   "version": "3.10.10"
  }
 },
 "nbformat": 4,
 "nbformat_minor": 4
}
