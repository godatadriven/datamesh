{
 "cells": [
  {
   "cell_type": "markdown",
   "id": "eeea0ab4",
   "metadata": {},
   "source": [
    "# Python with Delta Sharing"
   ]
  },
  {
   "cell_type": "markdown",
   "id": "3262b163",
   "metadata": {},
   "source": [
    "Read a dataset from within python."
   ]
  },
  {
   "cell_type": "code",
   "execution_count": null,
   "id": "77ca665a",
   "metadata": {
    "tags": []
   },
   "outputs": [],
   "source": [
    "!pip install delta-sharing==0.6.3"
   ]
  },
  {
   "cell_type": "code",
   "execution_count": null,
   "id": "6f924cb0",
   "metadata": {
    "tags": []
   },
   "outputs": [],
   "source": [
    "import delta_sharing"
   ]
  },
  {
   "cell_type": "code",
   "execution_count": null,
   "id": "7b0a5c7c",
   "metadata": {
    "tags": []
   },
   "outputs": [],
   "source": [
    "profile_file = \"file:///opt/delta/conf/delta.profile\""
   ]
  },
  {
   "cell_type": "code",
   "execution_count": null,
   "id": "81479ccb",
   "metadata": {
    "tags": []
   },
   "outputs": [],
   "source": [
    "client = delta_sharing.SharingClient(profile_file)\n",
    "client.list_all_tables()"
   ]
  },
  {
   "cell_type": "markdown",
   "id": "c1662b69",
   "metadata": {},
   "source": [
    "#### S3 storage"
   ]
  },
  {
   "cell_type": "code",
   "execution_count": null,
   "id": "292cceca",
   "metadata": {
    "tags": []
   },
   "outputs": [],
   "source": [
    "s3_table_url = profile_file + \"#demo.world.cities\"\n",
    "\n",
    "s3_sharingDF = delta_sharing.load_as_pandas(s3_table_url)\n",
    "s3_sharingDF.head()"
   ]
  },
  {
   "cell_type": "code",
   "execution_count": null,
   "id": "e44eb853",
   "metadata": {
    "tags": []
   },
   "outputs": [],
   "source": [
    "s3_sales_table_url = profile_file + \"#demo.sales.sample\"\n",
    "\n",
    "s3_salesDF = delta_sharing.load_as_pandas(s3_sales_table_url)\n",
    "s3_salesDF.head()"
   ]
  },
  {
   "cell_type": "code",
   "execution_count": null,
   "id": "773ffac9",
   "metadata": {
    "tags": []
   },
   "outputs": [],
   "source": [
    "s3_sales_mayDF = s3_salesDF[s3_salesDF.month.eq('05')]\n",
    "s3_sales_mayDF"
   ]
  },
  {
   "cell_type": "markdown",
   "id": "28628fa6",
   "metadata": {},
   "source": [
    "#### Azure storage"
   ]
  },
  {
   "cell_type": "code",
   "execution_count": null,
   "id": "f1f504a8",
   "metadata": {
    "tags": []
   },
   "outputs": [],
   "source": [
    "az_table_url = profile_file + \"#azurite_demo.azworld.cities\"\n",
    "\n",
    "az_sharingDF = delta_sharing.load_as_pandas(az_table_url)\n",
    "az_sharingDF.head()"
   ]
  },
  {
   "cell_type": "code",
   "execution_count": null,
   "id": "a3f86eb0",
   "metadata": {
    "tags": []
   },
   "outputs": [],
   "source": [
    "az_sales_table_url = profile_file + \"#azurite_demo.azsales.sample\"\n",
    "\n",
    "az_salesDF = delta_sharing.load_as_pandas(az_sales_table_url)\n",
    "az_salesDF.head()"
   ]
  },
  {
   "cell_type": "code",
   "execution_count": null,
   "id": "d39faea9",
   "metadata": {
    "tags": []
   },
   "outputs": [],
   "source": [
    "az_sales_mayDF = az_salesDF[az_salesDF.month.eq('05')]\n",
    "az_sales_mayDF"
   ]
  },
  {
   "cell_type": "markdown",
   "id": "f9261e4e",
   "metadata": {},
   "source": [
    "#### GCS storage"
   ]
  },
  {
   "cell_type": "code",
   "execution_count": null,
   "id": "984f5d47",
   "metadata": {
    "tags": []
   },
   "outputs": [],
   "source": [
    "gcs_table_url = profile_file + \"#gcs_demo.gcsworld.cities\"\n",
    "\n",
    "gcs_sharingDF = delta_sharing.load_as_pandas(gcs_table_url)\n",
    "gcs_sharingDF.head()"
   ]
  },
  {
   "cell_type": "code",
   "execution_count": null,
   "id": "242c0e6e",
   "metadata": {
    "tags": []
   },
   "outputs": [],
   "source": [
    "gcs_sales_table_url = profile_file + \"#gcs_demo.gcssales.sample\"\n",
    "\n",
    "gcs_salesDF = delta_sharing.load_as_pandas(gcs_sales_table_url)\n",
    "gcs_salesDF.head()"
   ]
  },
  {
   "cell_type": "code",
   "execution_count": null,
   "id": "c1121c71-2cfe-4cbb-8a01-651e22d5bfac",
   "metadata": {},
   "outputs": [],
   "source": []
  }
 ],
 "metadata": {
  "kernelspec": {
   "display_name": "Python 3 (ipykernel)",
   "language": "python",
   "name": "python3"
  },
  "language_info": {
   "codemirror_mode": {
    "name": "ipython",
    "version": 3
   },
   "file_extension": ".py",
   "mimetype": "text/x-python",
   "name": "python",
   "nbconvert_exporter": "python",
   "pygments_lexer": "ipython3",
   "version": "3.10.10"
  }
 },
 "nbformat": 4,
 "nbformat_minor": 5
}
