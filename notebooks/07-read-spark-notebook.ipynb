{
 "cells": [
  {
   "cell_type": "markdown",
   "metadata": {},
   "source": [
    "# Spark Delta Sharing"
   ]
  },
  {
   "cell_type": "code",
   "execution_count": 1,
   "metadata": {
    "scrolled": true
   },
   "outputs": [
    {
     "data": {
      "text/plain": [
       "\u001b[32mimport \u001b[39m\u001b[36m$ivy.$                                  \n",
       "\u001b[39m\n",
       "\u001b[32mimport \u001b[39m\u001b[36m$ivy.$                                \n",
       "\u001b[39m\n",
       "\u001b[32mimport \u001b[39m\u001b[36m$ivy.$                               \n",
       "\u001b[39m\n",
       "\u001b[32mimport \u001b[39m\u001b[36m$ivy.$                                        \n",
       "\u001b[39m\n",
       "\u001b[32mimport \u001b[39m\u001b[36m$ivy.$                                           \n",
       "\u001b[39m\n",
       "\u001b[32mimport \u001b[39m\u001b[36m$ivy.$                                   \n",
       "\u001b[39m\n",
       "\u001b[32mimport \u001b[39m\u001b[36m$ivy.$                                     \n",
       "\n",
       "\u001b[39m\n",
       "\u001b[32mimport \u001b[39m\u001b[36morg.apache.log4j.{Level, Logger}\n",
       "\u001b[39m"
      ]
     },
     "execution_count": 1,
     "metadata": {},
     "output_type": "execute_result"
    }
   ],
   "source": [
    "import $ivy.`org.apache.spark::spark-sql:3.1.2`\n",
    "import $ivy.`sh.almond::ammonite-spark:0.1.3`\n",
    "import $ivy.`io.delta:delta-core_2.12:1.0.1`\n",
    "import $ivy.`io.delta:delta-sharing-spark_2.12:0.4.0`\n",
    "import $ivy.`com.amazonaws:aws-java-sdk-bundle:1.11.563`\n",
    "import $ivy.`org.apache.hadoop:hadoop-aws:3.2.0`\n",
    "import $ivy.`org.apache.hadoop:hadoop-azure:3.2.0`\n",
    "\n",
    "import org.apache.log4j.{Level, Logger}\n",
    "Logger.getLogger(\"org\").setLevel(Level.OFF)"
   ]
  },
  {
   "cell_type": "code",
   "execution_count": 2,
   "metadata": {},
   "outputs": [
    {
     "name": "stdout",
     "output_type": "stream",
     "text": [
      "Loading spark conf from /opt/spark/conf/spark.conf\n",
      "Loading spark-stubs\n",
      "Getting spark JARs\n",
      "Creating SparkSession\n"
     ]
    },
    {
     "name": "stderr",
     "output_type": "stream",
     "text": [
      "Using Spark's default log4j profile: org/apache/spark/log4j-defaults.properties\n"
     ]
    },
    {
     "data": {
      "text/html": [
       "<a target=\"_blank\" href=\"http://8a577c40b123:4040\">Spark UI</a>"
      ]
     },
     "metadata": {},
     "output_type": "display_data"
    },
    {
     "data": {
      "text/plain": [
       "\u001b[32mimport \u001b[39m\u001b[36morg.apache.spark.sql._\n",
       "\n",
       "\u001b[39m\n",
       "\u001b[36mspark\u001b[39m: \u001b[32mSparkSession\u001b[39m = org.apache.spark.sql.SparkSession@7dbc4be"
      ]
     },
     "execution_count": 2,
     "metadata": {},
     "output_type": "execute_result"
    }
   ],
   "source": [
    "import org.apache.spark.sql._\n",
    "\n",
    "val spark = {\n",
    "  NotebookSparkSession.builder()\n",
    "    .master(\"local[*]\")\n",
    "    .getOrCreate()\n",
    "}"
   ]
  },
  {
   "cell_type": "code",
   "execution_count": 3,
   "metadata": {},
   "outputs": [
    {
     "data": {
      "text/plain": [
       "\u001b[36mprofile_file\u001b[39m: \u001b[32mString\u001b[39m = \u001b[32m\"file:///opt/delta/conf/delta.profile\"\u001b[39m"
      ]
     },
     "execution_count": 3,
     "metadata": {},
     "output_type": "execute_result"
    }
   ],
   "source": [
    "val profile_file = \"file:///opt/delta/conf/delta.profile\""
   ]
  },
  {
   "cell_type": "markdown",
   "metadata": {},
   "source": [
    "#### S3 storage"
   ]
  },
  {
   "cell_type": "code",
   "execution_count": null,
   "metadata": {},
   "outputs": [],
   "source": [
    "val s3_table_url = profile_file + \"#demo.world.cities\"\n",
    "\n",
    "val s3_sharedDF = spark.read.format(\"deltaSharing\").load(s3_table_url)\n",
    "s3_sharedDF.show()"
   ]
  },
  {
   "cell_type": "code",
   "execution_count": null,
   "metadata": {},
   "outputs": [],
   "source": [
    "val s3_sales_table_url = profile_file + \"#demo.sales.sample\"\n",
    "\n",
    "val s3_salesDF = spark.read.format(\"deltaSharing\").load(s3_sales_table_url)\n",
    "s3_salesDF.show()"
   ]
  },
  {
   "cell_type": "code",
   "execution_count": null,
   "metadata": {},
   "outputs": [],
   "source": [
    "s3_salesDF.where(\"month = 5\").show()"
   ]
  },
  {
   "cell_type": "markdown",
   "metadata": {},
   "source": [
    "#### Azure storage"
   ]
  },
  {
   "cell_type": "code",
   "execution_count": 4,
   "metadata": {},
   "outputs": [
    {
     "ename": "",
     "evalue": "",
     "output_type": "error",
     "traceback": [
      "\u001b[31mjava.net.SocketTimeoutException: Read timed out\u001b[39m\n  java.net.SocketInputStream.socketRead0(\u001b[32mNative Method\u001b[39m)\n  java.net.SocketInputStream.socketRead(\u001b[32mSocketInputStream.java\u001b[39m:\u001b[32m116\u001b[39m)\n  java.net.SocketInputStream.read(\u001b[32mSocketInputStream.java\u001b[39m:\u001b[32m171\u001b[39m)\n  java.net.SocketInputStream.read(\u001b[32mSocketInputStream.java\u001b[39m:\u001b[32m141\u001b[39m)\n  org.apache.http.impl.io.SessionInputBufferImpl.streamRead(\u001b[32mSessionInputBufferImpl.java\u001b[39m:\u001b[32m139\u001b[39m)\n  org.apache.http.impl.io.SessionInputBufferImpl.fillBuffer(\u001b[32mSessionInputBufferImpl.java\u001b[39m:\u001b[32m155\u001b[39m)\n  org.apache.http.impl.io.SessionInputBufferImpl.readLine(\u001b[32mSessionInputBufferImpl.java\u001b[39m:\u001b[32m284\u001b[39m)\n  org.apache.http.impl.conn.DefaultHttpResponseParser.parseHead(\u001b[32mDefaultHttpResponseParser.java\u001b[39m:\u001b[32m140\u001b[39m)\n  org.apache.http.impl.conn.DefaultHttpResponseParser.parseHead(\u001b[32mDefaultHttpResponseParser.java\u001b[39m:\u001b[32m57\u001b[39m)\n  org.apache.http.impl.io.AbstractMessageParser.parse(\u001b[32mAbstractMessageParser.java\u001b[39m:\u001b[32m261\u001b[39m)\n  org.apache.http.impl.DefaultBHttpClientConnection.receiveResponseHeader(\u001b[32mDefaultBHttpClientConnection.java\u001b[39m:\u001b[32m165\u001b[39m)\n  org.apache.http.impl.conn.CPoolProxy.receiveResponseHeader(\u001b[32mCPoolProxy.java\u001b[39m:\u001b[32m167\u001b[39m)\n  org.apache.http.protocol.HttpRequestExecutor.doReceiveResponse(\u001b[32mHttpRequestExecutor.java\u001b[39m:\u001b[32m272\u001b[39m)\n  org.apache.http.protocol.HttpRequestExecutor.execute(\u001b[32mHttpRequestExecutor.java\u001b[39m:\u001b[32m124\u001b[39m)\n  org.apache.http.impl.execchain.MainClientExec.execute(\u001b[32mMainClientExec.java\u001b[39m:\u001b[32m271\u001b[39m)\n  org.apache.http.impl.execchain.ProtocolExec.execute(\u001b[32mProtocolExec.java\u001b[39m:\u001b[32m184\u001b[39m)\n  org.apache.http.impl.execchain.RedirectExec.execute(\u001b[32mRedirectExec.java\u001b[39m:\u001b[32m110\u001b[39m)\n  org.apache.http.impl.client.InternalHttpClient.doExecute(\u001b[32mInternalHttpClient.java\u001b[39m:\u001b[32m184\u001b[39m)\n  org.apache.http.impl.client.CloseableHttpClient.execute(\u001b[32mCloseableHttpClient.java\u001b[39m:\u001b[32m71\u001b[39m)\n  io.delta.sharing.spark.DeltaSharingRestClient.$anonfun$getResponse$1(\u001b[32mDeltaSharingClient.scala\u001b[39m:\u001b[32m255\u001b[39m)\n  io.delta.sharing.spark.util.RetryUtils$.runWithExponentialBackoff(\u001b[32mRetryUtils.scala\u001b[39m:\u001b[32m36\u001b[39m)\n  io.delta.sharing.spark.DeltaSharingRestClient.getResponse(\u001b[32mDeltaSharingClient.scala\u001b[39m:\u001b[32m250\u001b[39m)\n  io.delta.sharing.spark.DeltaSharingRestClient.getNDJson(\u001b[32mDeltaSharingClient.scala\u001b[39m:\u001b[32m201\u001b[39m)\n  io.delta.sharing.spark.DeltaSharingRestClient.getMetadata(\u001b[32mDeltaSharingClient.scala\u001b[39m:\u001b[32m165\u001b[39m)\n  io.delta.sharing.spark.RemoteSnapshot.x$2$lzycompute(\u001b[32mRemoteDeltaLog.scala\u001b[39m:\u001b[32m169\u001b[39m)\n  io.delta.sharing.spark.RemoteSnapshot.x$2(\u001b[32mRemoteDeltaLog.scala\u001b[39m:\u001b[32m168\u001b[39m)\n  io.delta.sharing.spark.RemoteSnapshot.metadata$lzycompute(\u001b[32mRemoteDeltaLog.scala\u001b[39m:\u001b[32m168\u001b[39m)\n  io.delta.sharing.spark.RemoteSnapshot.metadata(\u001b[32mRemoteDeltaLog.scala\u001b[39m:\u001b[32m168\u001b[39m)\n  io.delta.sharing.spark.RemoteSnapshot.partitionSchema$lzycompute(\u001b[32mRemoteDeltaLog.scala\u001b[39m:\u001b[32m178\u001b[39m)\n  io.delta.sharing.spark.RemoteSnapshot.partitionSchema(\u001b[32mRemoteDeltaLog.scala\u001b[39m:\u001b[32m178\u001b[39m)\n  io.delta.sharing.spark.RemoteDeltaLog.createRelation(\u001b[32mRemoteDeltaLog.scala\u001b[39m:\u001b[32m69\u001b[39m)\n  io.delta.sharing.spark.DeltaSharingDataSource.createRelation(\u001b[32mDeltaSharingDataSource.scala\u001b[39m:\u001b[32m41\u001b[39m)\n  org.apache.spark.sql.execution.datasources.DataSource.resolveRelation(\u001b[32mDataSource.scala\u001b[39m:\u001b[32m355\u001b[39m)\n  org.apache.spark.sql.DataFrameReader.loadV1Source(\u001b[32mDataFrameReader.scala\u001b[39m:\u001b[32m325\u001b[39m)\n  org.apache.spark.sql.DataFrameReader.$anonfun$load$3(\u001b[32mDataFrameReader.scala\u001b[39m:\u001b[32m307\u001b[39m)\n  scala.Option.getOrElse(\u001b[32mOption.scala\u001b[39m:\u001b[32m189\u001b[39m)\n  org.apache.spark.sql.DataFrameReader.load(\u001b[32mDataFrameReader.scala\u001b[39m:\u001b[32m307\u001b[39m)\n  org.apache.spark.sql.DataFrameReader.load(\u001b[32mDataFrameReader.scala\u001b[39m:\u001b[32m239\u001b[39m)\n  ammonite.$sess.cmd3$Helper.<init>(\u001b[32mcmd3.sc\u001b[39m:\u001b[32m3\u001b[39m)\n  ammonite.$sess.cmd3$.<init>(\u001b[32mcmd3.sc\u001b[39m:\u001b[32m7\u001b[39m)\n  ammonite.$sess.cmd3$.<clinit>(\u001b[32mcmd3.sc\u001b[39m:\u001b[32m-1\u001b[39m)"
     ]
    }
   ],
   "source": [
    "val az_table_url = profile_file + \"#gcs_demo.gcsworld.cities\"\n",
    "\n",
    "val az_sharedDF = spark.read.format(\"deltaSharing\").load(az_table_url)\n",
    "az_sharedDF.show()"
   ]
  },
  {
   "cell_type": "code",
   "execution_count": 5,
   "metadata": {},
   "outputs": [
    {
     "data": {
      "text/html": [
       "<script>\n",
       "var comm = Jupyter.notebook.kernel.comm_manager.new_comm('cancel-stage-a7b8ba32-8a94-4742-9fd1-ed5090237b3c', {});\n",
       "\n",
       "function cancelStage(stageId) {\n",
       "  console.log('Cancelling stage ' + stageId);\n",
       "  comm.send({ 'stageId': stageId });\n",
       "}\n",
       "</script>\n",
       "          "
      ]
     },
     "metadata": {},
     "output_type": "display_data"
    },
    {
     "data": {
      "text/html": [
       "<div>\n",
       "  <span style=\"float: left;\">show at cmd4.sc:4</span>\n",
       "</div>\n"
      ]
     },
     "metadata": {},
     "output_type": "display_data"
    },
    {
     "data": {
      "text/html": [
       "<div class=\"progress\">\n",
       "  <div class=\"progress-bar\" role=\"progressbar\" style=\"background-color: blue; width: 100%; word-wrap: normal; white-space: nowrap; text-align: center; color: white\" aria-valuenow=\"100\" aria-valuemin=\"0\" aria-valuemax=\"100\">\n",
       "    1 / 1\n",
       "  </div>\n",
       "  <div class=\"progress-bar\" role=\"progressbar\" style=\"background-color: red; width: 0%\" aria-valuenow=\"0\" aria-valuemin=\"0\" aria-valuemax=\"100\"></div>\n",
       "</div>\n"
      ]
     },
     "metadata": {},
     "output_type": "display_data"
    },
    {
     "name": "stdout",
     "output_type": "stream",
     "text": [
      "+-----------+---------------+---------+---------------+-------+---------------+-------+------+--------+-------+------------+----+-----------+--------------------+-------------+--------------------+------------+---------+--------+----------+---------+---------+---------------+----------------+--------+-------------------+----+-----+---+\n",
      "|ORDERNUMBER|QUANTITYORDERED|PRICEEACH|ORDERLINENUMBER|  SALES|      ORDERDATE| STATUS|QTR_ID|MONTH_ID|YEAR_ID| PRODUCTLINE|MSRP|PRODUCTCODE|        CUSTOMERNAME|        PHONE|        ADDRESSLINE1|ADDRESSLINE2|     CITY|   STATE|POSTALCODE|  COUNTRY|TERRITORY|CONTACTLASTNAME|CONTACTFIRSTNAME|DEALSIZE|    ORDER_TIMESTAMP|year|month|day|\n",
      "+-----------+---------------+---------+---------------+-------+---------------+-------+------+--------+-------+------------+----+-----------+--------------------+-------------+--------------------+------------+---------+--------+----------+---------+---------+---------------+----------------+--------+-------------------+----+-----+---+\n",
      "|      10341|             41|    100.0|              9|7737.93|11/24/2004 0:00|Shipped|     4|      11|   2004| Motorcycles|  95|   S10_1678|Salzburg Collecta...|    6562-9555|         Geislweg 14|        null| Salzburg|    null|      5020|  Austria|     EMEA|          Pipps|           Georg|   Large|2004-11-24 00:00:00|2004|   11| 24|\n",
      "|      10341|             45|    79.65|              2|3584.25|11/24/2004 0:00|Shipped|     4|      11|   2004|Classic Cars| 194|   S12_1099|Salzburg Collecta...|    6562-9555|         Geislweg 14|        null| Salzburg|    null|      5020|  Austria|     EMEA|          Pipps|           Georg|  Medium|2004-11-24 00:00:00|2004|   11| 24|\n",
      "|      10341|             55|    100.0|              8|8118.55|11/24/2004 0:00|Shipped|     4|      11|   2004| Motorcycles| 150|   S12_2823|Salzburg Collecta...|    6562-9555|         Geislweg 14|        null| Salzburg|    null|      5020|  Austria|     EMEA|          Pipps|           Georg|   Large|2004-11-24 00:00:00|2004|   11| 24|\n",
      "|      10341|             44|    95.93|              1|4220.92|11/24/2004 0:00|Shipped|     4|      11|   2004|Classic Cars| 117|   S12_3380|Salzburg Collecta...|    6562-9555|         Geislweg 14|        null| Salzburg|    null|      5020|  Austria|     EMEA|          Pipps|           Georg|  Medium|2004-11-24 00:00:00|2004|   11| 24|\n",
      "|      10341|             36|    93.56|             10|3368.16|11/24/2004 0:00|Shipped|     4|      11|   2004|Classic Cars|  79|   S12_3990|Salzburg Collecta...|    6562-9555|         Geislweg 14|        null| Salzburg|    null|      5020|  Austria|     EMEA|          Pipps|           Georg|  Medium|2004-11-24 00:00:00|2004|   11| 24|\n",
      "|      10341|             55|     75.2|              7| 4136.0|11/24/2004 0:00|Shipped|     4|      11|   2004|Classic Cars| 115|   S12_4675|Salzburg Collecta...|    6562-9555|         Geislweg 14|        null| Salzburg|    null|      5020|  Austria|     EMEA|          Pipps|           Georg|  Medium|2004-11-24 00:00:00|2004|   11| 24|\n",
      "|      10342|             40|    100.0|              2| 6454.4|11/24/2004 0:00|Shipped|     4|      11|   2004|Classic Cars| 141|   S18_1129|Australian Collec...| 03 9520 4555|   636 St Kilda Road|     Level 3|Melbourne|Victoria|      3004|Australia|     APAC|       Ferguson|           Peter|  Medium|2004-11-24 00:00:00|2004|   11| 24|\n",
      "|      10343|             36|    100.0|              4|5848.92|11/24/2004 0:00|Shipped|     4|      11|   2004|Classic Cars| 124|   S18_1589|  Reims Collectables|   26.47.1555|  59 rue de l'Abbaye|        null|    Reims|    null|     51100|   France|     EMEA|        Henriot|            Paul|  Medium|2004-11-24 00:00:00|2004|   11| 24|\n",
      "|      10342|             55|    65.45|              1|3599.75|11/24/2004 0:00|Shipped|     4|      11|   2004|Classic Cars|  77|   S18_1889|Australian Collec...| 03 9520 4555|   636 St Kilda Road|     Level 3|Melbourne|Victoria|      3004|Australia|     APAC|       Ferguson|           Peter|  Medium|2004-11-24 00:00:00|2004|   11| 24|\n",
      "|      10342|             22|    100.0|              3|3160.74|11/24/2004 0:00|Shipped|     4|      11|   2004|Classic Cars| 142|   S18_1984|Australian Collec...| 03 9520 4555|   636 St Kilda Road|     Level 3|Melbourne|Victoria|      3004|Australia|     APAC|       Ferguson|           Peter|  Medium|2004-11-24 00:00:00|2004|   11| 24|\n",
      "|      10343|             25|    52.32|              3| 1308.0|11/24/2004 0:00|Shipped|     4|      11|   2004|Classic Cars| 132|   S18_2870|  Reims Collectables|   26.47.1555|  59 rue de l'Abbaye|        null|    Reims|    null|     51100|   France|     EMEA|        Henriot|            Paul|   Small|2004-11-24 00:00:00|2004|   11| 24|\n",
      "|      10342|             30|    100.0|              4| 5029.5|11/24/2004 0:00|Shipped|     4|      11|   2004|Classic Cars| 169|   S18_3232|Australian Collec...| 03 9520 4555|   636 St Kilda Road|     Level 3|Melbourne|Victoria|      3004|Australia|     APAC|       Ferguson|           Peter|  Medium|2004-11-24 00:00:00|2004|   11| 24|\n",
      "|      10342|             25|    66.74|              5| 1668.5|11/24/2004 0:00|Shipped|     4|      11|   2004|Classic Cars|  80|   S18_3278|Australian Collec...| 03 9520 4555|   636 St Kilda Road|     Level 3|Melbourne|Victoria|      3004|Australia|     APAC|       Ferguson|           Peter|   Small|2004-11-24 00:00:00|2004|   11| 24|\n",
      "|      10342|             55|    100.0|              7| 6548.3|11/24/2004 0:00|Shipped|     4|      11|   2004|Classic Cars| 146|   S18_3482|Australian Collec...| 03 9520 4555|   636 St Kilda Road|     Level 3|Melbourne|Victoria|      3004|Australia|     APAC|       Ferguson|           Peter|  Medium|2004-11-24 00:00:00|2004|   11| 24|\n",
      "|      10343|             44|    84.88|              2|3734.72|11/24/2004 0:00|Shipped|     4|      11|   2004|Classic Cars| 141|   S18_3685|  Reims Collectables|   26.47.1555|  59 rue de l'Abbaye|        null|    Reims|    null|     51100|   France|     EMEA|        Henriot|            Paul|  Medium|2004-11-24 00:00:00|2004|   11| 24|\n",
      "|      10342|             26|    55.95|              8| 1454.7|11/24/2004 0:00|Shipped|     4|      11|   2004| Motorcycles|  62|   S18_3782|Australian Collec...| 03 9520 4555|   636 St Kilda Road|     Level 3|Melbourne|Victoria|      3004|Australia|     APAC|       Ferguson|           Peter|   Small|2004-11-24 00:00:00|2004|   11| 24|\n",
      "|      10342|             38|    100.0|             11|6276.46|11/24/2004 0:00|Shipped|     4|      11|   2004|Classic Cars| 148|   S18_4721|Australian Collec...| 03 9520 4555|   636 St Kilda Road|     Level 3|Melbourne|Victoria|      3004|Australia|     APAC|       Ferguson|           Peter|  Medium|2004-11-24 00:00:00|2004|   11| 24|\n",
      "|      10343|             27|    36.21|              6| 977.67|11/24/2004 0:00|Shipped|     4|      11|   2004|Classic Cars|  50|   S24_1628|  Reims Collectables|   26.47.1555|  59 rue de l'Abbaye|        null|    Reims|    null|     51100|   France|     EMEA|        Henriot|            Paul|   Small|2004-11-24 00:00:00|2004|   11| 24|\n",
      "|      10340|             55|    79.98|              8| 4398.9|11/24/2004 0:00|Shipped|     4|      11|   2004| Motorcycles|  76|   S24_2000|  Enaco Distributors|(93) 203 4555|Rambla de Catalu�...|        null|Barcelona|    null|      8022|    Spain|     EMEA|       Saavedra|         Eduardo|  Medium|2004-11-24 00:00:00|2004|   11| 24|\n",
      "|      10341|             32|    100.0|              6| 3307.2|11/24/2004 0:00|Shipped|     4|      11|   2004| Motorcycles|  69|   S24_2360|Salzburg Collecta...|    6562-9555|         Geislweg 14|        null| Salzburg|    null|      5020|  Austria|     EMEA|          Pipps|           Georg|  Medium|2004-11-24 00:00:00|2004|   11| 24|\n",
      "+-----------+---------------+---------+---------------+-------+---------------+-------+------+--------+-------+------------+----+-----------+--------------------+-------------+--------------------+------------+---------+--------+----------+---------+---------+---------------+----------------+--------+-------------------+----+-----+---+\n",
      "only showing top 20 rows\n",
      "\n"
     ]
    },
    {
     "data": {
      "text/plain": [
       "\u001b[36maz_sales_table_url\u001b[39m: \u001b[32mString\u001b[39m = \u001b[32m\"file:///opt/delta/conf/delta.profile#azurite_demo.azsales.sample\"\u001b[39m\n",
       "\u001b[36maz_salesDF\u001b[39m: \u001b[32mDataFrame\u001b[39m = [ORDERNUMBER: int, QUANTITYORDERED: int ... 27 more fields]"
      ]
     },
     "execution_count": 5,
     "metadata": {},
     "output_type": "execute_result"
    }
   ],
   "source": [
    "val az_sales_table_url = profile_file + \"#azurite_demo.azsales.sample\"\n",
    "\n",
    "val az_salesDF = spark.read.format(\"deltaSharing\").load(az_sales_table_url)\n",
    "az_salesDF.show()"
   ]
  },
  {
   "cell_type": "code",
   "execution_count": null,
   "metadata": {},
   "outputs": [],
   "source": [
    "az_salesDF.where(\"month = 5\").show()"
   ]
  }
 ],
 "metadata": {
  "kernelspec": {
   "display_name": "Scala 2.12",
   "language": "scala",
   "name": "scala212"
  },
  "language_info": {
   "codemirror_mode": "text/x-scala",
   "file_extension": ".sc",
   "mimetype": "text/x-scala",
   "name": "scala",
   "nbconvert_exporter": "script",
   "version": "2.12.12"
  }
 },
 "nbformat": 4,
 "nbformat_minor": 4
}
