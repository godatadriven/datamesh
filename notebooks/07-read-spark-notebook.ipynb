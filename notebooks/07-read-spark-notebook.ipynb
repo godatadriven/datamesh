{
 "cells": [
  {
   "cell_type": "markdown",
   "metadata": {},
   "source": [
    "# Spark Delta Sharing"
   ]
  },
  {
   "cell_type": "code",
   "execution_count": null,
   "metadata": {
    "scrolled": true
   },
   "outputs": [],
   "source": [
    "import $ivy.`org.apache.spark::spark-sql:3.1.2`\n",
    "import $ivy.`sh.almond::ammonite-spark:0.1.3`\n",
    "import $ivy.`io.delta:delta-core_2.12:1.0.1`\n",
    "import $ivy.`io.delta:delta-sharing-spark_2.12:0.4.0`\n",
    "import $ivy.`com.amazonaws:aws-java-sdk-bundle:1.11.563`\n",
    "import $ivy.`org.apache.hadoop:hadoop-aws:3.2.0`\n",
    "import $ivy.`org.apache.hadoop:hadoop-azure:3.2.0`\n",
    "\n",
    "import org.apache.log4j.{Level, Logger}\n",
    "Logger.getLogger(\"org\").setLevel(Level.OFF)"
   ]
  },
  {
   "cell_type": "code",
   "execution_count": null,
   "metadata": {},
   "outputs": [],
   "source": [
    "import org.apache.spark.sql._\n",
    "\n",
    "val spark = {\n",
    "  NotebookSparkSession.builder()\n",
    "    .master(\"local[*]\")\n",
    "    .getOrCreate()\n",
    "}"
   ]
  },
  {
   "cell_type": "code",
   "execution_count": null,
   "metadata": {},
   "outputs": [],
   "source": [
    "val profile_file = \"file:///opt/delta/conf/delta.profile\""
   ]
  },
  {
   "cell_type": "markdown",
   "metadata": {},
   "source": [
    "#### S3 storage"
   ]
  },
  {
   "cell_type": "code",
   "execution_count": null,
   "metadata": {},
   "outputs": [],
   "source": [
    "val s3_table_url = profile_file + \"#demo.world.cities\"\n",
    "\n",
    "val s3_sharedDF = spark.read.format(\"deltaSharing\").load(s3_table_url)\n",
    "s3_sharedDF.show()"
   ]
  },
  {
   "cell_type": "code",
   "execution_count": null,
   "metadata": {},
   "outputs": [],
   "source": [
    "val s3_sales_table_url = profile_file + \"#demo.sales.sample\"\n",
    "\n",
    "val s3_salesDF = spark.read.format(\"deltaSharing\").load(s3_sales_table_url)\n",
    "s3_salesDF.show()"
   ]
  },
  {
   "cell_type": "code",
   "execution_count": null,
   "metadata": {},
   "outputs": [],
   "source": [
    "s3_salesDF.where(\"month = 5\").show()"
   ]
  },
  {
   "cell_type": "markdown",
   "metadata": {},
   "source": [
    "#### Azure storage"
   ]
  },
  {
   "cell_type": "code",
   "execution_count": null,
   "metadata": {},
   "outputs": [],
   "source": [
    "val az_table_url = profile_file + \"#azurite_demo.azworld.cities\"\n",
    "\n",
    "val az_sharedDF = spark.read.format(\"deltaSharing\").load(az_table_url)\n",
    "az_sharedDF.show()"
   ]
  },
  {
   "cell_type": "code",
   "execution_count": null,
   "metadata": {},
   "outputs": [],
   "source": [
    "val az_sales_table_url = profile_file + \"#azurite_demo.azsales.sample\"\n",
    "\n",
    "val az_salesDF = spark.read.format(\"deltaSharing\").load(az_sales_table_url)\n",
    "az_salesDF.show(5)"
   ]
  },
  {
   "cell_type": "code",
   "execution_count": null,
   "metadata": {},
   "outputs": [],
   "source": [
    "az_salesDF.where(\"month = 5\").show(5)"
   ]
  },
  {
   "cell_type": "markdown",
   "metadata": {},
   "source": [
    "#### GCS storage"
   ]
  },
  {
   "cell_type": "code",
   "execution_count": null,
   "metadata": {},
   "outputs": [],
   "source": [
    "val gcs_table_url = profile_file + \"#gcs_demo.gcsworld.cities\"\n",
    "\n",
    "val gcs_sharedDF = spark.read.format(\"deltaSharing\").load(gcs_table_url)\n",
    "gcs_sharedDF.show(5)"
   ]
  },
  {
   "cell_type": "code",
   "execution_count": null,
   "metadata": {},
   "outputs": [],
   "source": [
    "val gcs_sales_table_url = profile_file + \"#gcs_demo.gcssales.sample\"\n",
    "\n",
    "val gcs_salesDF = spark.read.format(\"deltaSharing\").load(gcs_sales_table_url)\n",
    "gcs_salesDF.show(5)"
   ]
  },
  {
   "cell_type": "code",
   "execution_count": null,
   "metadata": {},
   "outputs": [],
   "source": [
    "gcs_salesDF.where(\"month = 5\").show(5)"
   ]
  }
 ],
 "metadata": {
  "kernelspec": {
   "display_name": "Scala 2.12",
   "language": "scala",
   "name": "scala212"
  },
  "language_info": {
   "codemirror_mode": "text/x-scala",
   "file_extension": ".sc",
   "mimetype": "text/x-scala",
   "name": "scala",
   "nbconvert_exporter": "script",
   "version": "2.12.12"
  }
 },
 "nbformat": 4,
 "nbformat_minor": 4
}
