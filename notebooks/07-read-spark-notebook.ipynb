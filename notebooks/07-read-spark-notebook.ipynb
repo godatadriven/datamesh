{
 "cells": [
  {
   "cell_type": "markdown",
   "metadata": {},
   "source": [
    "# Spark Delta Sharing"
   ]
  },
  {
   "cell_type": "code",
   "execution_count": null,
   "metadata": {
    "tags": []
   },
   "outputs": [],
   "source": [
    "val profile_file = \"file:///opt/delta/conf/delta.profile\""
   ]
  },
  {
   "cell_type": "markdown",
   "metadata": {},
   "source": [
    "#### S3 storage"
   ]
  },
  {
   "cell_type": "code",
   "execution_count": null,
   "metadata": {
    "tags": []
   },
   "outputs": [],
   "source": [
    "val s3_table_url = profile_file + \"#demo.world.cities\"\n",
    "\n",
    "val s3_sharedDF = spark.read.format(\"deltaSharing\").load(s3_table_url)\n",
    "s3_sharedDF.show(5)"
   ]
  },
  {
   "cell_type": "code",
   "execution_count": null,
   "metadata": {
    "tags": []
   },
   "outputs": [],
   "source": [
    "val s3_sales_table_url = profile_file + \"#demo.sales.sample\"\n",
    "\n",
    "val s3_salesDF = spark.read.format(\"deltaSharing\").load(s3_sales_table_url)\n",
    "s3_salesDF.show(5)"
   ]
  },
  {
   "cell_type": "code",
   "execution_count": null,
   "metadata": {
    "tags": []
   },
   "outputs": [],
   "source": [
    "s3_salesDF.where(\"month = 5\").show(5)"
   ]
  },
  {
   "cell_type": "markdown",
   "metadata": {},
   "source": [
    "#### Azure storage"
   ]
  },
  {
   "cell_type": "code",
   "execution_count": null,
   "metadata": {
    "tags": []
   },
   "outputs": [],
   "source": [
    "val az_table_url = profile_file + \"#azurite_demo.azworld.cities\"\n",
    "\n",
    "val az_sharedDF = spark.read.format(\"deltaSharing\").load(az_table_url)\n",
    "az_sharedDF.show(5)"
   ]
  },
  {
   "cell_type": "code",
   "execution_count": null,
   "metadata": {
    "tags": []
   },
   "outputs": [],
   "source": [
    "val az_sales_table_url = profile_file + \"#azurite_demo.azsales.sample\"\n",
    "\n",
    "val az_salesDF = spark.read.format(\"deltaSharing\").load(az_sales_table_url)\n",
    "az_salesDF.show(5)"
   ]
  },
  {
   "cell_type": "code",
   "execution_count": null,
   "metadata": {
    "tags": []
   },
   "outputs": [],
   "source": [
    "az_salesDF.where(\"month = 5\").show(5)"
   ]
  },
  {
   "cell_type": "markdown",
   "metadata": {},
   "source": [
    "#### GCS storage"
   ]
  },
  {
   "cell_type": "code",
   "execution_count": null,
   "metadata": {
    "tags": []
   },
   "outputs": [],
   "source": [
    "val gcs_table_url = profile_file + \"#gcs_demo.gcsworld.cities\"\n",
    "\n",
    "val gcs_sharedDF = spark.read.format(\"deltaSharing\").load(gcs_table_url)\n",
    "gcs_sharedDF.show(5)"
   ]
  },
  {
   "cell_type": "code",
   "execution_count": null,
   "metadata": {
    "tags": []
   },
   "outputs": [],
   "source": [
    "val gcs_sales_table_url = profile_file + \"#gcs_demo.gcssales.sample\"\n",
    "\n",
    "val gcs_salesDF = spark.read.format(\"deltaSharing\").load(gcs_sales_table_url)\n",
    "gcs_salesDF.show(5)"
   ]
  },
  {
   "cell_type": "code",
   "execution_count": null,
   "metadata": {
    "tags": []
   },
   "outputs": [],
   "source": [
    "gcs_salesDF.where(\"month = 5\").show(5)"
   ]
  },
  {
   "cell_type": "code",
   "execution_count": null,
   "metadata": {},
   "outputs": [],
   "source": []
  }
 ],
 "metadata": {
  "kernelspec": {
   "display_name": "Apache Toree - Scala",
   "language": "scala",
   "name": "apache_toree_scala"
  },
  "language_info": {
   "codemirror_mode": "text/x-scala",
   "file_extension": ".scala",
   "mimetype": "text/x-scala",
   "name": "scala",
   "pygments_lexer": "scala",
   "version": "2.12.15"
  }
 },
 "nbformat": 4,
 "nbformat_minor": 4
}
