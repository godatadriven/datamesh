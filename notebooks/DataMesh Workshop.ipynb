{
 "cells": [
  {
   "cell_type": "markdown",
   "metadata": {},
   "source": [
    "# DataMesh workshop GoDataFest 2021"
   ]
  },
  {
   "cell_type": "markdown",
   "metadata": {},
   "source": [
    "This is the demo notebook for the DataMesh workshop.  \n",
    "In this notebook we will explore the environment and experiment a bit with a pre configured dataset"
   ]
  },
  {
   "cell_type": "markdown",
   "metadata": {},
   "source": [
    "## The environment"
   ]
  },
  {
   "cell_type": "markdown",
   "metadata": {},
   "source": [
    "We will have a docker compose based eenvironment consisting of:\n",
    "\n",
    "- Amazon S3 look-a-like for object storage\n",
    "- A Databricks Delta Sharing server to share data from the S3 buckets\n",
    "- A Spark shell (Scala) server to read data through Delta Sharing with Apache Spark\n",
    "- A Python shell server to read data through Delta Sharing with Pandas"
   ]
  },
  {
   "cell_type": "code",
   "execution_count": null,
   "metadata": {},
   "outputs": [],
   "source": []
  }
 ],
 "metadata": {
  "kernelspec": {
   "display_name": "Python 3",
   "language": "python",
   "name": "python3"
  },
  "language_info": {
   "codemirror_mode": {
    "name": "ipython",
    "version": 3
   },
   "file_extension": ".py",
   "mimetype": "text/x-python",
   "name": "python",
   "nbconvert_exporter": "python",
   "pygments_lexer": "ipython3",
   "version": "3.8.6"
  }
 },
 "nbformat": 4,
 "nbformat_minor": 5
}
