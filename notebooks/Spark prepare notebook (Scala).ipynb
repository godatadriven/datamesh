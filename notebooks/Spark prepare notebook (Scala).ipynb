{
 "cells": [
  {
   "cell_type": "markdown",
   "metadata": {},
   "source": [
    "# Scala notebook"
   ]
  },
  {
   "cell_type": "code",
   "execution_count": null,
   "metadata": {},
   "outputs": [],
   "source": [
    "import $ivy.`org.apache.spark::spark-sql:3.1.2`\n",
    "import $ivy.`sh.almond::ammonite-spark:0.1.3`\n",
    "import $ivy.`io.delta:delta-core_2.12:1.0.0`\n",
    "import $ivy.`io.delta:delta-sharing-spark_2.12:0.1.0`\n",
    "import $ivy.`com.amazonaws:aws-java-sdk-bundle:1.11.563`\n",
    "import $ivy.`org.apache.hadoop:hadoop-aws:3.2.0`\n",
    "\n",
    "import org.apache.log4j.{Level, Logger}\n",
    "Logger.getLogger(\"org\").setLevel(Level.OFF)"
   ]
  },
  {
   "cell_type": "code",
   "execution_count": null,
   "metadata": {},
   "outputs": [],
   "source": [
    "import org.apache.spark.sql._\n",
    "\n",
    "val spark = {\n",
    "  NotebookSparkSession.builder()\n",
    "    .master(\"local[*]\")\n",
    "    .config(\"spark.hadoop.fs.s3a.access.key\", sys.env.get(\"AWS_ACCESS_KEY_ID\").getOrElse(\"test\"))\n",
    "    .config(\"spark.hadoop.fs.s3a.secret.key\", sys.env.get(\"AWS_SECRET_ACCESS_KEY\").getOrElse(\"test\"))\n",
    "    .config(\"spark.hadoop.fs.s3a.endpoint\", s\"\"\"${sys.env.get(\"AWS_SERVER\").getOrElse(\"amazon.com\")}:${sys.env.get(\"AWS_PORT\").getOrElse(\"8000\")}\"\"\")\n",
    "    .getOrCreate()\n",
    "}"
   ]
  },
  {
   "cell_type": "code",
   "execution_count": null,
   "metadata": {},
   "outputs": [],
   "source": [
    "val citiesDF = spark.read.options(Map(\"header\"->\"true\", \"inferSchema\"->\"true\")).csv(\"s3://demodata/rawdata/world/cities/sample.csv\")\n",
    "citiesDF.show(truncate=false)\n",
    "citiesDF.printSchema()\n"
   ]
  },
  {
   "cell_type": "code",
   "execution_count": null,
   "metadata": {},
   "outputs": [],
   "source": [
    "citiesDF.write.format(\"delta\").save(\"s3://demodata/silver/world/cities\")\n"
   ]
  },
  {
   "cell_type": "code",
   "execution_count": null,
   "metadata": {},
   "outputs": [],
   "source": []
  }
 ],
 "metadata": {
  "kernelspec": {
   "display_name": "Scala 2.12",
   "language": "scala",
   "name": "scala212"
  },
  "language_info": {
   "codemirror_mode": "text/x-scala",
   "file_extension": ".sc",
   "mimetype": "text/x-scala",
   "name": "scala",
   "nbconvert_exporter": "script",
   "version": "2.12.12"
  }
 },
 "nbformat": 4,
 "nbformat_minor": 5
}
