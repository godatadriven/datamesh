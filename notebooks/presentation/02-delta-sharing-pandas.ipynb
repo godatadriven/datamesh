{
 "cells": [
  {
   "cell_type": "markdown",
   "id": "4d55139a",
   "metadata": {},
   "source": [
    "# Python with Delta Sharing"
   ]
  },
  {
   "cell_type": "markdown",
   "id": "1cfcf402",
   "metadata": {},
   "source": [
    "Read a dataset from within python."
   ]
  },
  {
   "cell_type": "code",
   "execution_count": null,
   "id": "145320cb",
   "metadata": {
    "tags": []
   },
   "outputs": [],
   "source": [
    "!pip install delta-sharing==0.6.3"
   ]
  },
  {
   "cell_type": "code",
   "execution_count": null,
   "id": "6cdc36b2",
   "metadata": {
    "tags": []
   },
   "outputs": [],
   "source": [
    "import delta_sharing"
   ]
  },
  {
   "cell_type": "code",
   "execution_count": null,
   "id": "b35123d9",
   "metadata": {
    "tags": []
   },
   "outputs": [],
   "source": [
    "profile_file = \"file:///opt/delta/conf/delta.profile\""
   ]
  },
  {
   "cell_type": "code",
   "execution_count": null,
   "id": "ac373cd7",
   "metadata": {
    "tags": []
   },
   "outputs": [],
   "source": [
    "client = delta_sharing.SharingClient(profile_file)\n",
    "client.list_all_tables()"
   ]
  },
  {
   "cell_type": "code",
   "execution_count": null,
   "id": "499de718",
   "metadata": {
    "tags": []
   },
   "outputs": [],
   "source": [
    "table_url = profile_file + \"#demo.world.cities\"\n",
    "\n",
    "sharingDF = delta_sharing.load_as_pandas(table_url)\n",
    "sharingDF.head()"
   ]
  },
  {
   "cell_type": "code",
   "execution_count": null,
   "id": "a17793d2",
   "metadata": {
    "tags": []
   },
   "outputs": [],
   "source": [
    "sales_table_url = profile_file + \"#demo.sales.sample\"\n",
    "\n",
    "salesDF = delta_sharing.load_as_pandas(sales_table_url)\n",
    "salesDF.head()"
   ]
  },
  {
   "cell_type": "code",
   "execution_count": null,
   "id": "54bfe098",
   "metadata": {
    "tags": []
   },
   "outputs": [],
   "source": [
    "sales_mayDF = salesDF[salesDF.month.eq('05')]\n",
    "sales_mayDF"
   ]
  }
 ],
 "metadata": {
  "kernelspec": {
   "display_name": "Python 3 (ipykernel)",
   "language": "python",
   "name": "python3"
  },
  "language_info": {
   "codemirror_mode": {
    "name": "ipython",
    "version": 3
   },
   "file_extension": ".py",
   "mimetype": "text/x-python",
   "name": "python",
   "nbconvert_exporter": "python",
   "pygments_lexer": "ipython3",
   "version": "3.10.10"
  }
 },
 "nbformat": 4,
 "nbformat_minor": 5
}
